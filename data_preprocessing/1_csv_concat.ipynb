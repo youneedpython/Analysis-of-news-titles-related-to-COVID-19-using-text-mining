{
 "cells": [
  {
   "cell_type": "code",
   "execution_count": null,
   "id": "43886fbb",
   "metadata": {},
   "outputs": [],
   "source": [
    "## csv 파일 합치기 ####################################\n",
    "import os\n",
    "import pandas as pd\n",
    "from glob import glob\n",
    "## 파일 목록 확인\n",
    "# file_list = os.listdir()\n",
    "# file_list\n",
    "\n",
    "## 제1기/제2기/제3기/제4기 => 기수별 csv 파일 병합 작업\n",
    "for time in range(1, 5):\n",
    "    # files = glob('corona_news_info_*.csv', recursive=True) ## recursive : 하위 폴더까지 불러옴\n",
    "    files = glob(f'analytics_csv_{time}/*.csv')\n",
    "    #files\n",
    "    print(f'{time}기 파일 총 {len(files)}개')\n",
    "\n",
    "    ## 파일 합치기\n",
    "    df_merge = pd.DataFrame()\n",
    "\n",
    "    for idx, file in enumerate(files, 1):\n",
    "        df = pd.read_csv(file, encoding='utf-8')\n",
    "        print(f'=====> {idx}회')\n",
    "        print(f'{file} size : {df.shape}')\n",
    "        df_merge = df_merge.append(df)\n",
    "        #print(f'df_merge size : {df.shape}')\n",
    "\n",
    "\n",
    "    print(f'<< {time}기 파일 병합 완료!! >>')\n",
    "\n",
    "    ## 파일 저장\n",
    "    df_merge.to_csv(f'time_{time}.csv', encoding='utf-8', index=False)\n",
    "    print(f'{time}_time.csv 파일 저장 완료!! ')\n",
    "    \n",
    "print('=' * 30)\n",
    "print('<< 작업 완료 >>')\n",
    "print('=' * 30)"
   ]
  }
 ],
 "metadata": {
  "kernelspec": {
   "display_name": "ex_kernel",
   "language": "python",
   "name": "ex"
  },
  "language_info": {
   "codemirror_mode": {
    "name": "ipython",
    "version": 3
   },
   "file_extension": ".py",
   "mimetype": "text/x-python",
   "name": "python",
   "nbconvert_exporter": "python",
   "pygments_lexer": "ipython3",
   "version": "3.7.11"
  }
 },
 "nbformat": 4,
 "nbformat_minor": 5
}
